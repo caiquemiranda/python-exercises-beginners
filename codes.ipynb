{
 "cells": [
  {
   "cell_type": "markdown",
   "metadata": {},
   "source": [
    "### Exercises 1 - 10."
   ]
  },
  {
   "cell_type": "markdown",
   "metadata": {},
   "source": [
    "1. Write a python program to print hello world."
   ]
  },
  {
   "cell_type": "code",
   "execution_count": 14,
   "metadata": {},
   "outputs": [
    {
     "name": "stdout",
     "output_type": "stream",
     "text": [
      "Hello world!\n"
     ]
    }
   ],
   "source": [
    "print('Hello world!')"
   ]
  },
  {
   "cell_type": "markdown",
   "metadata": {},
   "source": [
    "2. Write a python program to find area of a triangle."
   ]
  },
  {
   "cell_type": "code",
   "execution_count": 15,
   "metadata": {},
   "outputs": [
    {
     "name": "stdout",
     "output_type": "stream",
     "text": [
      "The area of the triangle is 0.00\n"
     ]
    }
   ],
   "source": [
    "a = float(input('Enter first side: '))\n",
    "b = float(input('Enter second side: '))\n",
    "c = float(input('Enter third side: '))\n",
    "\n",
    "# semiPerimeter \n",
    "s = (a + b + c) / 2\n",
    "area = (s* (s - a) * (s - b) * (s - c)) ** 0.5\n",
    "\n",
    "print('The area of the triangle is %0.2f' %area)"
   ]
  },
  {
   "cell_type": "markdown",
   "metadata": {},
   "source": [
    "3. Write a python program to swap two variables without using a third\n",
    "variable."
   ]
  },
  {
   "cell_type": "code",
   "execution_count": 16,
   "metadata": {},
   "outputs": [
    {
     "name": "stdout",
     "output_type": "stream",
     "text": [
      "The value of P after swapping: 0\n",
      "The value of Q after swapping: 0\n"
     ]
    }
   ],
   "source": [
    "P = int(input('Please enter value for P: '))\n",
    "Q = int(input('Please enter value for Q: '))\n",
    "\n",
    "P, Q = Q, P\n",
    "\n",
    "print(f'The value of P after swapping: {P}')\n",
    "print(f'The value of Q after swapping: {Q}')"
   ]
  },
  {
   "cell_type": "markdown",
   "metadata": {},
   "source": [
    "4. Write a python program to generate a random number."
   ]
  },
  {
   "cell_type": "code",
   "execution_count": 17,
   "metadata": {},
   "outputs": [
    {
     "name": "stdout",
     "output_type": "stream",
     "text": [
      "0.5845036293440583\n"
     ]
    }
   ],
   "source": [
    "import random\n",
    "\n",
    "n = random.random()\n",
    "\n",
    "print(n)"
   ]
  },
  {
   "cell_type": "markdown",
   "metadata": {},
   "source": [
    "5. Write a python program to check if a number is positive, negative or\n",
    "zero."
   ]
  },
  {
   "cell_type": "code",
   "execution_count": 29,
   "metadata": {},
   "outputs": [
    {
     "name": "stdout",
     "output_type": "stream",
     "text": [
      "Number given by you is Positive.\n"
     ]
    }
   ],
   "source": [
    "def numberCheck(s):\n",
    "    if s > 0:\n",
    "        print('Number given by you is Positive.')\n",
    "    \n",
    "    elif s < 0:\n",
    "        print('Number given by you is Negative.')\n",
    "    \n",
    "    else:\n",
    "        print('Number given by you is zero')\n",
    "        \n",
    "s = float(input(\"Enter a number as input value: \"))\n",
    "numberCheck(s)"
   ]
  },
  {
   "cell_type": "markdown",
   "metadata": {},
   "source": [
    "6. Write a python program to check if a number is odd or even."
   ]
  },
  {
   "cell_type": "code",
   "execution_count": null,
   "metadata": {},
   "outputs": [
    {
     "name": "stdout",
     "output_type": "stream",
     "text": [
      "4 is Even number.\n"
     ]
    }
   ],
   "source": [
    "num = int(input('Enter a number: '))\n",
    "\n",
    "if (num % 2) == 0:\n",
    "    print(f'{num} is Even number.')\n",
    "else:\n",
    "    print(f'{num} is Odd number.')"
   ]
  },
  {
   "cell_type": "markdown",
   "metadata": {},
   "source": [
    "7. Write a python program to find factorial of a number."
   ]
  },
  {
   "cell_type": "code",
   "execution_count": null,
   "metadata": {},
   "outputs": [
    {
     "name": "stdout",
     "output_type": "stream",
     "text": [
      "The factorial of 8 is 40320\n"
     ]
    }
   ],
   "source": [
    "num = int(input('Enter a number: '))\n",
    "\n",
    "factorial = 1\n",
    "\n",
    "if num < 0:\n",
    "    print('Factorial does not exist for negative numbers.')\n",
    "\n",
    "elif num == 0:\n",
    "    print('The factorial of 0 is 1.')\n",
    "\n",
    "else:\n",
    "    for i in range(1, num + 1):\n",
    "        factorial = factorial * i\n",
    "    \n",
    "    print(f'The factorial of {num} is {factorial}')"
   ]
  },
  {
   "cell_type": "markdown",
   "metadata": {},
   "source": [
    "8. Write a python program to find lcm"
   ]
  },
  {
   "cell_type": "code",
   "execution_count": null,
   "metadata": {},
   "outputs": [
    {
     "name": "stdout",
     "output_type": "stream",
     "text": [
      "The L.C.M. of 5 and 3 is 15\n"
     ]
    }
   ],
   "source": [
    " \n",
    "def calculate_lcm(x, y):\n",
    "    if x > y:\n",
    "        greater = x\n",
    "    \n",
    "    else:\n",
    "        greater = y\n",
    "        \n",
    "    while(True):\n",
    "        if ((greater % x == 0) and (greater % y == 0)):\n",
    "            lcm = greater\n",
    "            break\n",
    "        greater += 1\n",
    "    \n",
    "    return lcm\n",
    "\n",
    "num_1 = int(input('Enter first number: '))\n",
    "num_2 = int(input('Enter second number: '))\n",
    "\n",
    "print(f'The L.C.M. of {num_1} and {num_2} is {calculate_lcm(num_1, num_2)}')"
   ]
  },
  {
   "cell_type": "markdown",
   "metadata": {},
   "source": [
    "9. Write a python program to find HCF."
   ]
  },
  {
   "cell_type": "code",
   "execution_count": null,
   "metadata": {},
   "outputs": [
    {
     "name": "stdout",
     "output_type": "stream",
     "text": [
      "The H.C.F of 6 and 12 is 6\n"
     ]
    }
   ],
   "source": [
    "def calculate_hcf(x, y):\n",
    "    if x > y:\n",
    "        smaller = y\n",
    "    \n",
    "    else:\n",
    "        smaller = x\n",
    "    \n",
    "    for i in range(1, smaller + 1):\n",
    "        if ((x % i == 0) and (y % i == 0)):\n",
    "            hcf = i\n",
    "        \n",
    "    return hcf\n",
    "\n",
    "num_1 = int(input('Enter fisrt number: '))\n",
    "num_2 = int(input('Enter second number: '))\n",
    "\n",
    "print(f'The H.C.F of {num_1} and {num_2} is {calculate_hcf(num_1, num_2)}')"
   ]
  },
  {
   "cell_type": "markdown",
   "metadata": {},
   "source": [
    "10. Write a python program to find factorial of a number using\n",
    "recursion."
   ]
  },
  {
   "cell_type": "code",
   "execution_count": null,
   "metadata": {},
   "outputs": [
    {
     "name": "stdout",
     "output_type": "stream",
     "text": [
      "Sorry factorial does not exist for negative numbers\n"
     ]
    }
   ],
   "source": [
    "def recur_factorial(n):\n",
    "    if n == 1:\n",
    "        return\n",
    "    \n",
    "    else:\n",
    "        return n*recur_factorial(n-1)\n",
    "\n",
    "num = int(input('Enter a number: '))\n",
    "\n",
    "if num < 0:\n",
    "    print('Sorry factorial does not exist for negative numbers')\n",
    "\n",
    "elif num == 0:\n",
    "    print('The factorial of 0 is 1')\n",
    "\n",
    "else:\n",
    "    print(f'The factorial of {num} is {recur_factorial(num)}')"
   ]
  },
  {
   "cell_type": "markdown",
   "metadata": {},
   "source": [
    "### End."
   ]
  }
 ],
 "metadata": {
  "kernelspec": {
   "display_name": "Python 3.10.5 64-bit",
   "language": "python",
   "name": "python3"
  },
  "language_info": {
   "codemirror_mode": {
    "name": "ipython",
    "version": 3
   },
   "file_extension": ".py",
   "mimetype": "text/x-python",
   "name": "python",
   "nbconvert_exporter": "python",
   "pygments_lexer": "ipython3",
   "version": "3.10.5"
  },
  "orig_nbformat": 4,
  "vscode": {
   "interpreter": {
    "hash": "74af3d2f25f1e46ebd2903d59225d79e4675ec224d56c01fc30cd168c2010d53"
   }
  }
 },
 "nbformat": 4,
 "nbformat_minor": 2
}
