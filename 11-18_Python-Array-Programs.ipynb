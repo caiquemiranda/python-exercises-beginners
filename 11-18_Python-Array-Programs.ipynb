{
 "cells": [
  {
   "cell_type": "markdown",
   "metadata": {},
   "source": [
    "11. Write a python program to print the elements of an array."
   ]
  },
  {
   "cell_type": "code",
   "execution_count": 1,
   "metadata": {},
   "outputs": [
    {
     "name": "stdout",
     "output_type": "stream",
     "text": [
      "Elements of given array: \n",
      "1\n",
      "2\n",
      "3\n",
      "4\n",
      "5\n"
     ]
    }
   ],
   "source": [
    "arr = [1, 2, 3, 4, 5]\n",
    "\n",
    "print(f'Elements of given array: ')\n",
    "\n",
    "for i in range(0, len(arr)):\n",
    "    print(arr[i])"
   ]
  },
  {
   "cell_type": "markdown",
   "metadata": {},
   "source": [
    "12. Write a python program to copy all the elements of one array into another array."
   ]
  },
  {
   "cell_type": "code",
   "execution_count": null,
   "metadata": {},
   "outputs": [],
   "source": [
    "arr_1 = [1, 2, 3, 4, 5]\n",
    "arr_2 = [None] * len(arr_1)\n",
    "\n",
    "for i in range(0, len(arr_1)):\n",
    "    arr_2[i] = arr_1[i]\n",
    "    \n",
    "print('Elements of original array: ')\n",
    "\n",
    "for i in range(0, len(arr_1)):\n",
    "    print(arr[i]),\n",
    "\n",
    "print()\n",
    "\n",
    "for i in range(0, len(arr_2)):\n",
    "    print(arr_2[i])"
   ]
  },
  {
   "cell_type": "markdown",
   "metadata": {},
   "source": [
    "13. Write a python program to find the largest element in an array."
   ]
  },
  {
   "cell_type": "code",
   "execution_count": 2,
   "metadata": {},
   "outputs": [
    {
     "name": "stdout",
     "output_type": "stream",
     "text": [
      "Largest element present in given array: 87\n"
     ]
    }
   ],
   "source": [
    "arr = [23, 11, 56, 23, 87]\n",
    "\n",
    "max = arr[0]\n",
    "\n",
    "for i in range(0, len(arr)):\n",
    "    if(arr[i] > max):\n",
    "        max = arr[i]\n",
    "        \n",
    "print(f'Largest element present in given array: {str(max)}')"
   ]
  },
  {
   "cell_type": "markdown",
   "metadata": {},
   "source": [
    "14. Write a python program to find the smallest element in an array."
   ]
  },
  {
   "cell_type": "code",
   "execution_count": 4,
   "metadata": {},
   "outputs": [
    {
     "name": "stdout",
     "output_type": "stream",
     "text": [
      "Smallest element present in given array: 11\n"
     ]
    }
   ],
   "source": [
    "arr = [23, 11, 56, 23, 87]\n",
    "\n",
    "min = arr[0]\n",
    "\n",
    "for i in range(0, len(arr)):\n",
    "    if(arr[i] < min):\n",
    "        min = arr[i]\n",
    "        \n",
    "print(f'Smallest element present in given array: {str(min)}')"
   ]
  },
  {
   "cell_type": "markdown",
   "metadata": {},
   "source": [
    "15. Write a python program to print the sum of all elements in an array."
   ]
  },
  {
   "cell_type": "code",
   "execution_count": 5,
   "metadata": {},
   "outputs": [
    {
     "name": "stdout",
     "output_type": "stream",
     "text": [
      "Sum of all the elments of an array: 15\n"
     ]
    }
   ],
   "source": [
    "arr = [1, 2, 3, 4, 5]\n",
    "\n",
    "sum = 0\n",
    "\n",
    "for i in range(0, len(arr)):\n",
    "    sum = sum + arr[i]\n",
    "\n",
    "print(f'Sum of all the elments of an array: {str(sum)}')"
   ]
  },
  {
   "cell_type": "markdown",
   "metadata": {},
   "source": [
    "16. Write a python program to print the elements of an array in reverse order."
   ]
  },
  {
   "cell_type": "code",
   "execution_count": 13,
   "metadata": {},
   "outputs": [
    {
     "name": "stdout",
     "output_type": "stream",
     "text": [
      "Original array : \n",
      "1\n",
      "2\n",
      "3\n",
      "4\n",
      "5\n",
      "Array in reverse order: \n",
      "5\n",
      "4\n",
      "3\n",
      "2\n",
      "1\n"
     ]
    }
   ],
   "source": [
    "arr = [1, 2, 3, 4, 5]\n",
    "\n",
    "print('Original array : ')\n",
    "\n",
    "for i in range(0, len(arr)):\n",
    "    print(arr[i])\n",
    "\n",
    "print('Array in reverse order: ')\n",
    "\n",
    "reverse_arr = arr[::-1]\n",
    "\n",
    "for i in range(0, len(reverse_arr)):\n",
    "    print(reverse_arr[i])"
   ]
  },
  {
   "cell_type": "markdown",
   "metadata": {},
   "source": [
    "17. Write a python program to sort the elements of an array in ascending order."
   ]
  },
  {
   "cell_type": "code",
   "execution_count": 15,
   "metadata": {},
   "outputs": [
    {
     "name": "stdout",
     "output_type": "stream",
     "text": [
      "Elemnts of original array: \n",
      "5\n",
      "2\n",
      "8\n",
      "7\n",
      "1\n",
      "\n",
      "Elements of array sorted in ascending order: \n",
      "1 2 5 7 8 "
     ]
    }
   ],
   "source": [
    "arr = [5, 2, 8, 7, 1]\n",
    "\n",
    "temp = 0\n",
    "\n",
    "print('Elemnts of original array: ')\n",
    "for i in range(0, len(arr)):\n",
    "    print(arr[i])\n",
    "    \n",
    "for i in range(0, len(arr)):\n",
    "    for j in range(i+1, len(arr)):\n",
    "        if (arr[i] > arr[j]):\n",
    "            temp = arr[i]\n",
    "            arr[i] = arr[j]\n",
    "            arr[j] = temp\n",
    "            \n",
    "print()\n",
    "\n",
    "print('Elements of array sorted in ascending order: ')\n",
    "for i in range(0, len(arr)):\n",
    "    print(arr[i], end=' ')"
   ]
  },
  {
   "cell_type": "markdown",
   "metadata": {},
   "source": [
    "18. Write a python program to sort the elements of an array in descending order."
   ]
  },
  {
   "cell_type": "code",
   "execution_count": 16,
   "metadata": {},
   "outputs": [
    {
     "name": "stdout",
     "output_type": "stream",
     "text": [
      "Elemnts of original array: \n",
      "5\n",
      "2\n",
      "8\n",
      "7\n",
      "1\n",
      "\n",
      "Elements of array sorted in descending order: \n",
      "8 7 5 2 1 "
     ]
    }
   ],
   "source": [
    "arr = [5, 2, 8, 7, 1]\n",
    "\n",
    "temp = 0\n",
    "\n",
    "print('Elemnts of original array: ')\n",
    "for i in range(0, len(arr)):\n",
    "    print(arr[i])\n",
    "    \n",
    "for i in range(0, len(arr)):\n",
    "    for j in range(i+1, len(arr)):\n",
    "        if (arr[i] < arr[j]):\n",
    "            temp = arr[i]\n",
    "            arr[i] = arr[j]\n",
    "            arr[j] = temp\n",
    "            \n",
    "print()\n",
    "\n",
    "print('Elements of array sorted in descending order: ')\n",
    "for i in range(0, len(arr)):\n",
    "    print(arr[i], end=' ')"
   ]
  },
  {
   "cell_type": "markdown",
   "metadata": {},
   "source": [
    "### End."
   ]
  }
 ],
 "metadata": {
  "kernelspec": {
   "display_name": "Python 3.10.5 64-bit",
   "language": "python",
   "name": "python3"
  },
  "language_info": {
   "codemirror_mode": {
    "name": "ipython",
    "version": 3
   },
   "file_extension": ".py",
   "mimetype": "text/x-python",
   "name": "python",
   "nbconvert_exporter": "python",
   "pygments_lexer": "ipython3",
   "version": "3.10.5"
  },
  "orig_nbformat": 4,
  "vscode": {
   "interpreter": {
    "hash": "74af3d2f25f1e46ebd2903d59225d79e4675ec224d56c01fc30cd168c2010d53"
   }
  }
 },
 "nbformat": 4,
 "nbformat_minor": 2
}
